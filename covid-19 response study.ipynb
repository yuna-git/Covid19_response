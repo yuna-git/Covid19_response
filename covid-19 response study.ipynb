{
 "cells": [
  {
   "cell_type": "markdown",
   "metadata": {},
   "source": [
    "# Capstone project proposal -- Covid-19 behavior study"
   ]
  },
  {
   "cell_type": "markdown",
   "metadata": {},
   "source": [
    "Since early April, Imperial College London and YouGov have been surveying people in 29 countries about their coronavirus-related behaviors and opinions. Topics include mask usage, self-isolation, working from home, vaccinations, and economic activity. The purpose of this project is to investigate whether/which kind of people's behavior would affect the spreading of COVID-19, and how people can better protect themselves and families."
   ]
  },
  {
   "cell_type": "markdown",
   "metadata": {},
   "source": [
    "Two sets of dataset were downloaded from internet:\n",
    "1. The survey data about people's response in 29 countries is downloaded here: https://github.com/YouGov-Data/covid-19-tracker. \n",
    "\n",
    "2. The total confirmed Covid-19 cases and daily confirmed cases in population precentage by country is downloaded here: https://ourworldindata.org/covid-cases. \n",
    "\n",
    "With these two sets of data together, I'm trying to explore the correlation between people's response and the population rate of confirmed cases."
   ]
  },
  {
   "cell_type": "markdown",
   "metadata": {},
   "source": [
    "### Step 1: download survey data for all the 29 countries,  merge together and exported a copy of data"
   ]
  },
  {
   "cell_type": "code",
   "execution_count": 239,
   "metadata": {},
   "outputs": [],
   "source": [
    "import numpy as np\n",
    "import pandas as pd\n",
    "import timeit"
   ]
  },
  {
   "cell_type": "code",
   "execution_count": 240,
   "metadata": {},
   "outputs": [],
   "source": [
    "countries = pd.read_csv('incubator/covid19/countries.txt', header=None)"
   ]
  },
  {
   "cell_type": "code",
   "execution_count": 241,
   "metadata": {},
   "outputs": [],
   "source": [
    "countrynames = countries.values"
   ]
  },
  {
   "cell_type": "code",
   "execution_count": 242,
   "metadata": {},
   "outputs": [
    {
     "name": "stderr",
     "output_type": "stream",
     "text": [
      "F:\\Anaconda3\\lib\\site-packages\\IPython\\core\\interactiveshell.py:3063: DtypeWarning: Columns (81) have mixed types.Specify dtype option on import or set low_memory=False.\n",
      "  interactivity=interactivity, compiler=compiler, result=result)\n"
     ]
    }
   ],
   "source": [
    "austrilia_data = pd.read_csv('incubator/covid19/australia.txt', index_col='RecordNo')"
   ]
  },
  {
   "cell_type": "code",
   "execution_count": 243,
   "metadata": {},
   "outputs": [
    {
     "data": {
      "text/plain": [
       "Index(['i12_health_10', 'i12_health_11', 'i12_health_12', 'i12_health_13',\n",
       "       'i12_health_14', 'i12_health_15', 'i12_health_16', 'i12_health_17',\n",
       "       'i12_health_18', 'i12_health_19', 'i12_health_20', 'i13_health',\n",
       "       'i14_health_1', 'i14_health_2', 'i14_health_3', 'i14_health_4',\n",
       "       'i14_health_5', 'i14_health_6', 'i14_health_7', 'i14_health_8'],\n",
       "      dtype='object')"
      ]
     },
     "execution_count": 243,
     "metadata": {},
     "output_type": "execute_result"
    }
   ],
   "source": [
    "austrilia_data.columns[30:50]"
   ]
  },
  {
   "cell_type": "code",
   "execution_count": 244,
   "metadata": {},
   "outputs": [
    {
     "name": "stdout",
     "output_type": "stream",
     "text": [
      "<class 'pandas.core.frame.DataFrame'>\n",
      "Int64Index: 11042 entries, 310 to 11351\n",
      "Columns: 206 entries, endtime to m14_open\n",
      "dtypes: float64(1), int64(5), object(200)\n",
      "memory usage: 17.4+ MB\n"
     ]
    }
   ],
   "source": [
    "austrilia_data.info()"
   ]
  },
  {
   "cell_type": "code",
   "execution_count": 245,
   "metadata": {},
   "outputs": [
    {
     "name": "stderr",
     "output_type": "stream",
     "text": [
      "F:\\Anaconda3\\lib\\site-packages\\IPython\\core\\interactiveshell.py:3063: DtypeWarning: Columns (84) have mixed types.Specify dtype option on import or set low_memory=False.\n",
      "  interactivity=interactivity, compiler=compiler, result=result)\n"
     ]
    }
   ],
   "source": [
    "china_data = pd.read_csv('incubator/covid19/china.txt', index_col='RecordNo')"
   ]
  },
  {
   "cell_type": "code",
   "execution_count": 246,
   "metadata": {},
   "outputs": [
    {
     "data": {
      "text/plain": [
       "Index(['endtime', 'qweek', 'i1_health', 'i2_health', 'i7a_health', 'i3_health',\n",
       "       'i4_health', 'i5_health_1', 'i5_health_2', 'i5_health_3',\n",
       "       ...\n",
       "       'm14_5', 'm14_6', 'm14_7', 'm14_8', 'm14_9', 'm14_10', 'm14_11',\n",
       "       'm14_96', 'm14_99', 'm14_open'],\n",
       "      dtype='object', length=209)"
      ]
     },
     "execution_count": 246,
     "metadata": {},
     "output_type": "execute_result"
    }
   ],
   "source": [
    "china_data.columns"
   ]
  },
  {
   "cell_type": "code",
   "execution_count": 247,
   "metadata": {},
   "outputs": [
    {
     "name": "stdout",
     "output_type": "stream",
     "text": [
      "<class 'pandas.core.frame.DataFrame'>\n",
      "Int64Index: 11015 entries, 0 to 11014\n",
      "Columns: 209 entries, endtime to m14_open\n",
      "dtypes: float64(1), int64(5), object(203)\n",
      "memory usage: 17.6+ MB\n"
     ]
    }
   ],
   "source": [
    "china_data.info()"
   ]
  },
  {
   "cell_type": "code",
   "execution_count": 248,
   "metadata": {},
   "outputs": [
    {
     "name": "stdout",
     "output_type": "stream",
     "text": [
      "<class 'pandas.core.frame.DataFrame'>\n",
      "RangeIndex: 33967 entries, 0 to 33966\n",
      "Columns: 214 entries, endtime to employment_status_7\n",
      "dtypes: float64(1), int64(5), object(208)\n",
      "memory usage: 55.5+ MB\n"
     ]
    }
   ],
   "source": [
    "t1 = pd.concat([austrilia_data, china_data, united_state_data], ignore_index=True, sort=False)\n",
    "t1.info()"
   ]
  },
  {
   "cell_type": "code",
   "execution_count": 249,
   "metadata": {},
   "outputs": [
    {
     "name": "stdout",
     "output_type": "stream",
     "text": [
      "australia.txt\n",
      "brazil.txt\n"
     ]
    },
    {
     "name": "stderr",
     "output_type": "stream",
     "text": [
      "F:\\Anaconda3\\lib\\site-packages\\IPython\\core\\interactiveshell.py:3063: DtypeWarning: Columns (79,104) have mixed types.Specify dtype option on import or set low_memory=False.\n",
      "  interactivity=interactivity, compiler=compiler, result=result)\n"
     ]
    },
    {
     "name": "stdout",
     "output_type": "stream",
     "text": [
      "canada.txt\n"
     ]
    },
    {
     "name": "stderr",
     "output_type": "stream",
     "text": [
      "F:\\Anaconda3\\lib\\site-packages\\IPython\\core\\interactiveshell.py:3063: DtypeWarning: Columns (78) have mixed types.Specify dtype option on import or set low_memory=False.\n",
      "  interactivity=interactivity, compiler=compiler, result=result)\n"
     ]
    },
    {
     "name": "stdout",
     "output_type": "stream",
     "text": [
      "china.txt\n",
      "denmark.txt\n",
      "finland.txt\n",
      "france.txt\n"
     ]
    },
    {
     "name": "stderr",
     "output_type": "stream",
     "text": [
      "F:\\Anaconda3\\lib\\site-packages\\IPython\\core\\interactiveshell.py:3063: DtypeWarning: Columns (3,4,5,41,78) have mixed types.Specify dtype option on import or set low_memory=False.\n",
      "  interactivity=interactivity, compiler=compiler, result=result)\n"
     ]
    },
    {
     "name": "stdout",
     "output_type": "stream",
     "text": [
      "germany.txt\n"
     ]
    },
    {
     "name": "stderr",
     "output_type": "stream",
     "text": [
      "F:\\Anaconda3\\lib\\site-packages\\IPython\\core\\interactiveshell.py:3063: DtypeWarning: Columns (3,4,5,41,75) have mixed types.Specify dtype option on import or set low_memory=False.\n",
      "  interactivity=interactivity, compiler=compiler, result=result)\n"
     ]
    },
    {
     "name": "stdout",
     "output_type": "stream",
     "text": [
      "hong-kong.txt\n"
     ]
    },
    {
     "name": "stderr",
     "output_type": "stream",
     "text": [
      "F:\\Anaconda3\\lib\\site-packages\\IPython\\core\\interactiveshell.py:3063: DtypeWarning: Columns (78,89) have mixed types.Specify dtype option on import or set low_memory=False.\n",
      "  interactivity=interactivity, compiler=compiler, result=result)\n"
     ]
    },
    {
     "name": "stdout",
     "output_type": "stream",
     "text": [
      "india.txt\n",
      "indonesia.txt\n",
      "italy.txt\n",
      "japan.txt\n",
      "malaysia.txt\n",
      "mexico.txt\n",
      "netherlands.txt\n",
      "norway.txt\n",
      "philippines.txt\n",
      "saudi-arabia.txt\n",
      "singapore.txt\n"
     ]
    },
    {
     "name": "stderr",
     "output_type": "stream",
     "text": [
      "F:\\Anaconda3\\lib\\site-packages\\IPython\\core\\interactiveshell.py:3063: DtypeWarning: Columns (79) have mixed types.Specify dtype option on import or set low_memory=False.\n",
      "  interactivity=interactivity, compiler=compiler, result=result)\n"
     ]
    },
    {
     "name": "stdout",
     "output_type": "stream",
     "text": [
      "south-korea.txt\n",
      "spain.txt\n",
      "sweden.txt\n"
     ]
    },
    {
     "name": "stderr",
     "output_type": "stream",
     "text": [
      "F:\\Anaconda3\\lib\\site-packages\\IPython\\core\\interactiveshell.py:3063: DtypeWarning: Columns (103) have mixed types.Specify dtype option on import or set low_memory=False.\n",
      "  interactivity=interactivity, compiler=compiler, result=result)\n"
     ]
    },
    {
     "name": "stdout",
     "output_type": "stream",
     "text": [
      "taiwan.txt\n",
      "thailand.txt\n",
      "united-arab-emirates.txt\n",
      "united-kingdom.txt\n"
     ]
    },
    {
     "name": "stderr",
     "output_type": "stream",
     "text": [
      "F:\\Anaconda3\\lib\\site-packages\\IPython\\core\\interactiveshell.py:3063: DtypeWarning: Columns (82,87,89) have mixed types.Specify dtype option on import or set low_memory=False.\n",
      "  interactivity=interactivity, compiler=compiler, result=result)\n"
     ]
    },
    {
     "name": "stdout",
     "output_type": "stream",
     "text": [
      "united-states.txt\n",
      "vietnam.txt\n"
     ]
    }
   ],
   "source": [
    "country_data = []\n",
    "for i in range(len(countrynames)):\n",
    "    country = countrynames[i]\n",
    "    filename = country[0]+'.txt'\n",
    "    print(filename)\n",
    "    if country == 'sweden':\n",
    "        data = pd.read_csv('incubator/covid19/'+filename, index_col='record')\n",
    "    else: \n",
    "        data = pd.read_csv('incubator/covid19/'+filename, index_col='RecordNo')\n",
    "    data['country']= pd.Series([country[0]]*data.shape[0])\n",
    "    country_data.append(data)\n"
   ]
  },
  {
   "cell_type": "code",
   "execution_count": 250,
   "metadata": {},
   "outputs": [],
   "source": [
    "all_data = pd.concat(country_data, ignore_index=True, sort=False)"
   ]
  },
  {
   "cell_type": "code",
   "execution_count": 251,
   "metadata": {},
   "outputs": [],
   "source": [
    "all_data.to_csv('incubator/covid19/all_data_merge.csv')"
   ]
  },
  {
   "cell_type": "markdown",
   "metadata": {},
   "source": [
    "### Step1b: download the confirmed cases population rate by country"
   ]
  },
  {
   "cell_type": "markdown",
   "metadata": {},
   "source": [
    "After checking, all the data is up to date July 26th, 2020. So will use data at this date for now."
   ]
  },
  {
   "cell_type": "code",
   "execution_count": 494,
   "metadata": {},
   "outputs": [],
   "source": [
    "total_case = pd.read_csv('incubator/covid19/total-confirmed-cases-of-covid-19-per-million-people.csv')"
   ]
  },
  {
   "cell_type": "code",
   "execution_count": 495,
   "metadata": {},
   "outputs": [],
   "source": [
    "total_case['country'] = total_case['Entity'].apply(lambda x: x.lower().replace(' ', '-'))"
   ]
  },
  {
   "cell_type": "code",
   "execution_count": 496,
   "metadata": {},
   "outputs": [],
   "source": [
    "total_case = total_case.loc[total_case['country'].apply(lambda x: x in countrynames)]"
   ]
  },
  {
   "cell_type": "code",
   "execution_count": 497,
   "metadata": {},
   "outputs": [],
   "source": [
    "total_case['Date'] = pd.to_datetime(total_case['Date'])"
   ]
  },
  {
   "cell_type": "code",
   "execution_count": 516,
   "metadata": {},
   "outputs": [
    {
     "data": {
      "text/plain": [
       "Index(['Entity', 'Code', 'Date',\n",
       "       'Total confirmed cases of COVID-19 per million people (cases per million)',\n",
       "       'country'],\n",
       "      dtype='object')"
      ]
     },
     "execution_count": 516,
     "metadata": {},
     "output_type": "execute_result"
    }
   ],
   "source": [
    "total_case.columns"
   ]
  },
  {
   "cell_type": "code",
   "execution_count": 517,
   "metadata": {},
   "outputs": [
    {
     "data": {
      "text/plain": [
       "country\n",
       "australia                 547.061\n",
       "brazil                  11265.147\n",
       "canada                   3008.387\n",
       "china                      60.015\n",
       "denmark                  2320.015\n",
       "finland                  1333.401\n",
       "france                   2765.716\n",
       "germany                  2449.980\n",
       "india                    1003.998\n",
       "indonesia                 355.677\n",
       "italy                    4066.433\n",
       "japan                     232.312\n",
       "malaysia                  274.486\n",
       "mexico                   2986.332\n",
       "netherlands              3077.467\n",
       "norway                   1675.815\n",
       "philippines               715.561\n",
       "saudi-arabia             7611.134\n",
       "singapore                8527.363\n",
       "south-korea               275.994\n",
       "spain                    5826.591\n",
       "sweden                   7822.051\n",
       "taiwan                     19.230\n",
       "thailand                   47.149\n",
       "united-arab-emirates     5921.095\n",
       "united-kingdom           4617.785\n",
       "united-states           12622.337\n",
       "vietnam                     4.263\n",
       "Name: Total confirmed cases of COVID-19 per million people (cases per million), dtype: float64"
      ]
     },
     "execution_count": 517,
     "metadata": {},
     "output_type": "execute_result"
    }
   ],
   "source": [
    "total_case.groupby('country')['Total confirmed cases of COVID-19 per million people (cases per million)'].max()"
   ]
  },
  {
   "cell_type": "code",
   "execution_count": 501,
   "metadata": {},
   "outputs": [],
   "source": [
    "total_case_keep = total_case[total_case['Date']=='2020-07-26']\n",
    "total_case_keep = total_case_keep.drop('Entity', axis = 1)\n",
    "total_case_keep.columns = ['code', 'date', 'total case per million people', 'country']\n",
    "total_case_keep = total_case_keep.set_index('country')"
   ]
  },
  {
   "cell_type": "code",
   "execution_count": 502,
   "metadata": {},
   "outputs": [
    {
     "data": {
      "text/html": [
       "<div>\n",
       "<style scoped>\n",
       "    .dataframe tbody tr th:only-of-type {\n",
       "        vertical-align: middle;\n",
       "    }\n",
       "\n",
       "    .dataframe tbody tr th {\n",
       "        vertical-align: top;\n",
       "    }\n",
       "\n",
       "    .dataframe thead th {\n",
       "        text-align: right;\n",
       "    }\n",
       "</style>\n",
       "<table border=\"1\" class=\"dataframe\">\n",
       "  <thead>\n",
       "    <tr style=\"text-align: right;\">\n",
       "      <th></th>\n",
       "      <th>code</th>\n",
       "      <th>date</th>\n",
       "      <th>total case per million people</th>\n",
       "    </tr>\n",
       "    <tr>\n",
       "      <th>country</th>\n",
       "      <th></th>\n",
       "      <th></th>\n",
       "      <th></th>\n",
       "    </tr>\n",
       "  </thead>\n",
       "  <tbody>\n",
       "    <tr>\n",
       "      <th>australia</th>\n",
       "      <td>AUS</td>\n",
       "      <td>2020-07-26</td>\n",
       "      <td>547.061</td>\n",
       "    </tr>\n",
       "    <tr>\n",
       "      <th>brazil</th>\n",
       "      <td>BRA</td>\n",
       "      <td>2020-07-26</td>\n",
       "      <td>11265.147</td>\n",
       "    </tr>\n",
       "    <tr>\n",
       "      <th>canada</th>\n",
       "      <td>CAN</td>\n",
       "      <td>2020-07-26</td>\n",
       "      <td>3008.387</td>\n",
       "    </tr>\n",
       "    <tr>\n",
       "      <th>china</th>\n",
       "      <td>CHN</td>\n",
       "      <td>2020-07-26</td>\n",
       "      <td>60.015</td>\n",
       "    </tr>\n",
       "    <tr>\n",
       "      <th>denmark</th>\n",
       "      <td>DNK</td>\n",
       "      <td>2020-07-26</td>\n",
       "      <td>2320.015</td>\n",
       "    </tr>\n",
       "  </tbody>\n",
       "</table>\n",
       "</div>"
      ],
      "text/plain": [
       "          code       date  total case per million people\n",
       "country                                                 \n",
       "australia  AUS 2020-07-26                        547.061\n",
       "brazil     BRA 2020-07-26                      11265.147\n",
       "canada     CAN 2020-07-26                       3008.387\n",
       "china      CHN 2020-07-26                         60.015\n",
       "denmark    DNK 2020-07-26                       2320.015"
      ]
     },
     "execution_count": 502,
     "metadata": {},
     "output_type": "execute_result"
    }
   ],
   "source": [
    "total_case_keep.head()"
   ]
  },
  {
   "cell_type": "code",
   "execution_count": 518,
   "metadata": {},
   "outputs": [],
   "source": [
    "total_case_keep.loc['spain','total case per million people'] = 5826.591"
   ]
  },
  {
   "cell_type": "code",
   "execution_count": 520,
   "metadata": {},
   "outputs": [
    {
     "data": {
      "text/html": [
       "<div>\n",
       "<style scoped>\n",
       "    .dataframe tbody tr th:only-of-type {\n",
       "        vertical-align: middle;\n",
       "    }\n",
       "\n",
       "    .dataframe tbody tr th {\n",
       "        vertical-align: top;\n",
       "    }\n",
       "\n",
       "    .dataframe thead th {\n",
       "        text-align: right;\n",
       "    }\n",
       "</style>\n",
       "<table border=\"1\" class=\"dataframe\">\n",
       "  <thead>\n",
       "    <tr style=\"text-align: right;\">\n",
       "      <th></th>\n",
       "      <th>code</th>\n",
       "      <th>date</th>\n",
       "      <th>total case per million people</th>\n",
       "    </tr>\n",
       "    <tr>\n",
       "      <th>country</th>\n",
       "      <th></th>\n",
       "      <th></th>\n",
       "      <th></th>\n",
       "    </tr>\n",
       "  </thead>\n",
       "  <tbody>\n",
       "    <tr>\n",
       "      <th>australia</th>\n",
       "      <td>AUS</td>\n",
       "      <td>2020-07-26 00:00:00</td>\n",
       "      <td>547.061</td>\n",
       "    </tr>\n",
       "    <tr>\n",
       "      <th>brazil</th>\n",
       "      <td>BRA</td>\n",
       "      <td>2020-07-26 00:00:00</td>\n",
       "      <td>11265.147</td>\n",
       "    </tr>\n",
       "    <tr>\n",
       "      <th>canada</th>\n",
       "      <td>CAN</td>\n",
       "      <td>2020-07-26 00:00:00</td>\n",
       "      <td>3008.387</td>\n",
       "    </tr>\n",
       "    <tr>\n",
       "      <th>china</th>\n",
       "      <td>CHN</td>\n",
       "      <td>2020-07-26 00:00:00</td>\n",
       "      <td>60.015</td>\n",
       "    </tr>\n",
       "    <tr>\n",
       "      <th>denmark</th>\n",
       "      <td>DNK</td>\n",
       "      <td>2020-07-26 00:00:00</td>\n",
       "      <td>2320.015</td>\n",
       "    </tr>\n",
       "    <tr>\n",
       "      <th>finland</th>\n",
       "      <td>FIN</td>\n",
       "      <td>2020-07-26 00:00:00</td>\n",
       "      <td>1333.401</td>\n",
       "    </tr>\n",
       "    <tr>\n",
       "      <th>france</th>\n",
       "      <td>FRA</td>\n",
       "      <td>2020-07-26 00:00:00</td>\n",
       "      <td>2765.716</td>\n",
       "    </tr>\n",
       "    <tr>\n",
       "      <th>germany</th>\n",
       "      <td>DEU</td>\n",
       "      <td>2020-07-26 00:00:00</td>\n",
       "      <td>2449.980</td>\n",
       "    </tr>\n",
       "    <tr>\n",
       "      <th>india</th>\n",
       "      <td>IND</td>\n",
       "      <td>2020-07-26 00:00:00</td>\n",
       "      <td>1003.998</td>\n",
       "    </tr>\n",
       "    <tr>\n",
       "      <th>indonesia</th>\n",
       "      <td>IDN</td>\n",
       "      <td>2020-07-26 00:00:00</td>\n",
       "      <td>355.677</td>\n",
       "    </tr>\n",
       "    <tr>\n",
       "      <th>italy</th>\n",
       "      <td>ITA</td>\n",
       "      <td>2020-07-26 00:00:00</td>\n",
       "      <td>4066.433</td>\n",
       "    </tr>\n",
       "    <tr>\n",
       "      <th>japan</th>\n",
       "      <td>JPN</td>\n",
       "      <td>2020-07-26 00:00:00</td>\n",
       "      <td>232.312</td>\n",
       "    </tr>\n",
       "    <tr>\n",
       "      <th>malaysia</th>\n",
       "      <td>MYS</td>\n",
       "      <td>2020-07-26 00:00:00</td>\n",
       "      <td>274.486</td>\n",
       "    </tr>\n",
       "    <tr>\n",
       "      <th>mexico</th>\n",
       "      <td>MEX</td>\n",
       "      <td>2020-07-26 00:00:00</td>\n",
       "      <td>2986.332</td>\n",
       "    </tr>\n",
       "    <tr>\n",
       "      <th>netherlands</th>\n",
       "      <td>NLD</td>\n",
       "      <td>2020-07-26 00:00:00</td>\n",
       "      <td>3077.467</td>\n",
       "    </tr>\n",
       "    <tr>\n",
       "      <th>norway</th>\n",
       "      <td>NOR</td>\n",
       "      <td>2020-07-26 00:00:00</td>\n",
       "      <td>1675.815</td>\n",
       "    </tr>\n",
       "    <tr>\n",
       "      <th>philippines</th>\n",
       "      <td>PHL</td>\n",
       "      <td>2020-07-26 00:00:00</td>\n",
       "      <td>715.561</td>\n",
       "    </tr>\n",
       "    <tr>\n",
       "      <th>saudi-arabia</th>\n",
       "      <td>SAU</td>\n",
       "      <td>2020-07-26 00:00:00</td>\n",
       "      <td>7611.134</td>\n",
       "    </tr>\n",
       "    <tr>\n",
       "      <th>singapore</th>\n",
       "      <td>SGP</td>\n",
       "      <td>2020-07-26 00:00:00</td>\n",
       "      <td>8527.363</td>\n",
       "    </tr>\n",
       "    <tr>\n",
       "      <th>south-korea</th>\n",
       "      <td>KOR</td>\n",
       "      <td>2020-07-26 00:00:00</td>\n",
       "      <td>275.994</td>\n",
       "    </tr>\n",
       "    <tr>\n",
       "      <th>sweden</th>\n",
       "      <td>SWE</td>\n",
       "      <td>2020-07-26 00:00:00</td>\n",
       "      <td>7822.051</td>\n",
       "    </tr>\n",
       "    <tr>\n",
       "      <th>taiwan</th>\n",
       "      <td>TWN</td>\n",
       "      <td>2020-07-26 00:00:00</td>\n",
       "      <td>19.230</td>\n",
       "    </tr>\n",
       "    <tr>\n",
       "      <th>thailand</th>\n",
       "      <td>THA</td>\n",
       "      <td>2020-07-26 00:00:00</td>\n",
       "      <td>47.149</td>\n",
       "    </tr>\n",
       "    <tr>\n",
       "      <th>united-arab-emirates</th>\n",
       "      <td>ARE</td>\n",
       "      <td>2020-07-26 00:00:00</td>\n",
       "      <td>5921.095</td>\n",
       "    </tr>\n",
       "    <tr>\n",
       "      <th>united-kingdom</th>\n",
       "      <td>GBR</td>\n",
       "      <td>2020-07-26 00:00:00</td>\n",
       "      <td>4399.743</td>\n",
       "    </tr>\n",
       "    <tr>\n",
       "      <th>united-states</th>\n",
       "      <td>USA</td>\n",
       "      <td>2020-07-26 00:00:00</td>\n",
       "      <td>12622.337</td>\n",
       "    </tr>\n",
       "    <tr>\n",
       "      <th>vietnam</th>\n",
       "      <td>VNM</td>\n",
       "      <td>2020-07-26 00:00:00</td>\n",
       "      <td>4.263</td>\n",
       "    </tr>\n",
       "    <tr>\n",
       "      <th>spain</th>\n",
       "      <td>SPN</td>\n",
       "      <td>2020-0725 00:00:00</td>\n",
       "      <td>5826.591</td>\n",
       "    </tr>\n",
       "  </tbody>\n",
       "</table>\n",
       "</div>"
      ],
      "text/plain": [
       "                     code                 date  total case per million people\n",
       "country                                                                      \n",
       "australia             AUS  2020-07-26 00:00:00                        547.061\n",
       "brazil                BRA  2020-07-26 00:00:00                      11265.147\n",
       "canada                CAN  2020-07-26 00:00:00                       3008.387\n",
       "china                 CHN  2020-07-26 00:00:00                         60.015\n",
       "denmark               DNK  2020-07-26 00:00:00                       2320.015\n",
       "finland               FIN  2020-07-26 00:00:00                       1333.401\n",
       "france                FRA  2020-07-26 00:00:00                       2765.716\n",
       "germany               DEU  2020-07-26 00:00:00                       2449.980\n",
       "india                 IND  2020-07-26 00:00:00                       1003.998\n",
       "indonesia             IDN  2020-07-26 00:00:00                        355.677\n",
       "italy                 ITA  2020-07-26 00:00:00                       4066.433\n",
       "japan                 JPN  2020-07-26 00:00:00                        232.312\n",
       "malaysia              MYS  2020-07-26 00:00:00                        274.486\n",
       "mexico                MEX  2020-07-26 00:00:00                       2986.332\n",
       "netherlands           NLD  2020-07-26 00:00:00                       3077.467\n",
       "norway                NOR  2020-07-26 00:00:00                       1675.815\n",
       "philippines           PHL  2020-07-26 00:00:00                        715.561\n",
       "saudi-arabia          SAU  2020-07-26 00:00:00                       7611.134\n",
       "singapore             SGP  2020-07-26 00:00:00                       8527.363\n",
       "south-korea           KOR  2020-07-26 00:00:00                        275.994\n",
       "sweden                SWE  2020-07-26 00:00:00                       7822.051\n",
       "taiwan                TWN  2020-07-26 00:00:00                         19.230\n",
       "thailand              THA  2020-07-26 00:00:00                         47.149\n",
       "united-arab-emirates  ARE  2020-07-26 00:00:00                       5921.095\n",
       "united-kingdom        GBR  2020-07-26 00:00:00                       4399.743\n",
       "united-states         USA  2020-07-26 00:00:00                      12622.337\n",
       "vietnam               VNM  2020-07-26 00:00:00                          4.263\n",
       "spain                 SPN   2020-0725 00:00:00                       5826.591"
      ]
     },
     "execution_count": 520,
     "metadata": {},
     "output_type": "execute_result"
    }
   ],
   "source": [
    "total_case_keep"
   ]
  },
  {
   "cell_type": "code",
   "execution_count": 526,
   "metadata": {},
   "outputs": [
    {
     "data": {
      "text/plain": [
       "(28,)"
      ]
     },
     "execution_count": 526,
     "metadata": {},
     "output_type": "execute_result"
    }
   ],
   "source": [
    "total_order = total_case_keep['total case per million people'].sort_values(ascending = False)\n",
    "total_order.shape"
   ]
  },
  {
   "cell_type": "code",
   "execution_count": 387,
   "metadata": {},
   "outputs": [],
   "source": [
    "new_daily_case = pd.read_csv('incubator/covid19/new-covid-cases-per-million.csv')"
   ]
  },
  {
   "cell_type": "code",
   "execution_count": 451,
   "metadata": {},
   "outputs": [
    {
     "name": "stderr",
     "output_type": "stream",
     "text": [
      "F:\\Anaconda3\\lib\\site-packages\\ipykernel_launcher.py:3: SettingWithCopyWarning: \n",
      "A value is trying to be set on a copy of a slice from a DataFrame.\n",
      "Try using .loc[row_indexer,col_indexer] = value instead\n",
      "\n",
      "See the caveats in the documentation: https://pandas.pydata.org/pandas-docs/stable/user_guide/indexing.html#returning-a-view-versus-a-copy\n",
      "  This is separate from the ipykernel package so we can avoid doing imports until\n"
     ]
    }
   ],
   "source": [
    "new_daily_case['country'] = new_daily_case['Entity'].apply(lambda x: x.lower().replace(' ', '-'))\n",
    "new_daily_case = new_daily_case.loc[new_daily_case['country'].apply(lambda x: x in countrynames)]\n",
    "new_daily_case['Date'] = pd.to_datetime(new_daily_case['Date'])"
   ]
  },
  {
   "cell_type": "code",
   "execution_count": 456,
   "metadata": {},
   "outputs": [],
   "source": [
    "new_daily_case_keep = new_daily_case[total_case['Date']=='2020-07-26']\n",
    "new_daily_case_keep = new_daily_case_keep.drop('Entity', axis = 1)\n",
    "new_daily_case_keep.columns = ['code', 'date', 'new daily case per million people', 'country']\n",
    "new_daily_case_keep = new_daily_case_keep.set_index('country')"
   ]
  },
  {
   "cell_type": "code",
   "execution_count": 462,
   "metadata": {},
   "outputs": [
    {
     "data": {
      "text/plain": [
       "country\n",
       "brazil                  240.624\n",
       "united-states           197.878\n",
       "singapore                87.687\n",
       "saudi-arabia             63.222\n",
       "mexico                   52.361\n",
       "india                    35.261\n",
       "united-arab-emirates     31.647\n",
       "philippines              17.959\n",
       "australia                13.922\n",
       "united-kingdom           11.298\n",
       "canada                    9.273\n",
       "netherlands               7.995\n",
       "indonesia                 6.829\n",
       "japan                     4.712\n",
       "italy                     4.532\n",
       "germany                   3.640\n",
       "finland                   1.444\n",
       "south-korea               1.131\n",
       "malaysia                  0.711\n",
       "thailand                  0.129\n",
       "china                     0.124\n",
       "france                    0.000\n",
       "sweden                    0.000\n",
       "denmark                   0.000\n",
       "taiwan                    0.000\n",
       "norway                    0.000\n",
       "vietnam                   0.000\n",
       "Name: new daily case per million people, dtype: float64"
      ]
     },
     "execution_count": 462,
     "metadata": {},
     "output_type": "execute_result"
    }
   ],
   "source": [
    "daily_order = new_daily_case_keep['new daily case per million people'].sort_values(ascending = False)\n",
    "daily_order"
   ]
  },
  {
   "cell_type": "code",
   "execution_count": null,
   "metadata": {},
   "outputs": [],
   "source": []
  },
  {
   "cell_type": "markdown",
   "metadata": {},
   "source": [
    "### Step 2: explore people's response in the survey data, try to uncover the hidden relation with number of cases"
   ]
  },
  {
   "cell_type": "markdown",
   "metadata": {},
   "source": [
    "The survey data includes several categories: people's basic bio info(weight, age, sex, country/region, household), working status(going out for work or not, job duties, etc), self and family Covid-19 sympton and test status, self/family protections(wear mask, wash hands, reduce contacts with other people, etc), other health status questions unrelated to Covid-19, psychological status(happy/down/worried/fear), attitude towards government Covid-19 response. There are a lot detail questions reguarding wearing mask, such as willing/not-willing wear mask, resource to get mask, material of mask, how often wearing mask, feeling about wearing mask, etc. There is a total of 259 features of merged raw data withoug adjustment.  Due to limited time, so far only explored some features regarding wearing mask. Can do detailed check with more features  later. Here I selected top 10 countries with highest Covid-19 cases population rate, compare the response with data from the bottom 10 countries with lowest Covid-19 cases population rate. And since among all thers countries, U.S. and China are both with large population, so they are also picked for checking."
   ]
  },
  {
   "cell_type": "code",
   "execution_count": 252,
   "metadata": {},
   "outputs": [],
   "source": [
    "import matplotlib.pyplot as plt\n",
    "import seaborn as sns"
   ]
  },
  {
   "cell_type": "code",
   "execution_count": 345,
   "metadata": {},
   "outputs": [
    {
     "data": {
      "text/plain": [
       "<matplotlib.axes._subplots.AxesSubplot at 0x271115ac1c8>"
      ]
     },
     "execution_count": 345,
     "metadata": {},
     "output_type": "execute_result"
    },
    {
     "data": {
      "image/png": "[encoded data removed]",
      "text/plain": [
       "<Figure size 720x432 with 1 Axes>"
      ]
     },
     "metadata": {
      "needs_background": "light"
     },
     "output_type": "display_data"
    }
   ],
   "source": [
    "all_data['country'].value_counts()\n",
    "all_data['country'].value_counts().plot(kind='barh', figsize=(10,6))"
   ]
  },
  {
   "cell_type": "markdown",
   "metadata": {},
   "source": [
    "I also checked this website for confirmed Covid-19 cases population percetange rating for these countries:\n",
    "https://ourworldindata.org/, and below is the list of country names in descending order of the confirmed cases population percentage."
   ]
  },
  {
   "cell_type": "code",
   "execution_count": 522,
   "metadata": {},
   "outputs": [],
   "source": [
    "total_country_order = list(total_order.index)\n",
    "daily_country_order = list(daily_order.index)"
   ]
  },
  {
   "cell_type": "code",
   "execution_count": 523,
   "metadata": {},
   "outputs": [],
   "source": [
    "us_data = all_data[all_data['country']=='united-states']\n",
    "uk_data = all_data[all_data['country']=='united-kindom']\n",
    "china_data = all_data[all_data['country']=='china']\n",
    "top10_data = all_data.loc[all_data['country'].apply(lambda x: x in total_country_order[:10])]\n",
    "bottom10_data = all_data.loc[all_data['country'].apply(lambda x: x in total_country_order[-10:])]"
   ]
  },
  {
   "cell_type": "code",
   "execution_count": 527,
   "metadata": {},
   "outputs": [
    {
     "data": {
      "text/plain": [
       "united-kingdom          13992\n",
       "united-states           11910\n",
       "germany                 11058\n",
       "spain                   11056\n",
       "france                  11052\n",
       "india                   11039\n",
       "sweden                  11036\n",
       "italy                   11033\n",
       "china                   11015\n",
       "australia               10732\n",
       "singapore                7979\n",
       "indonesia                7087\n",
       "malaysia                 7086\n",
       "thailand                 7054\n",
       "denmark                  7042\n",
       "vietnam                  7040\n",
       "finland                  7031\n",
       "norway                   7022\n",
       "taiwan                   7020\n",
       "canada                   7017\n",
       "philippines              6997\n",
       "mexico                   6978\n",
       "united-arab-emirates     6949\n",
       "saudi-arabia             6710\n",
       "hong-kong                4574\n",
       "netherlands              4397\n",
       "japan                    4389\n",
       "brazil                   4298\n",
       "south-korea              4019\n",
       "Name: country, dtype: int64"
      ]
     },
     "execution_count": 527,
     "metadata": {},
     "output_type": "execute_result"
    }
   ],
   "source": [
    "all_data['country'].value_counts()"
   ]
  },
  {
   "cell_type": "code",
   "execution_count": 525,
   "metadata": {},
   "outputs": [
    {
     "data": {
      "text/plain": [
       "(28,)"
      ]
     },
     "execution_count": 525,
     "metadata": {},
     "output_type": "execute_result"
    }
   ],
   "source": [
    "total_order.shape"
   ]
  },
  {
   "cell_type": "code",
   "execution_count": 477,
   "metadata": {},
   "outputs": [
    {
     "name": "stdout",
     "output_type": "stream",
     "text": [
      "(85321, 259)\n",
      "(72439, 259)\n"
     ]
    }
   ],
   "source": [
    "print(top10_data.shape)\n",
    "print(bottom10_data.shape)"
   ]
  },
  {
   "cell_type": "markdown",
   "metadata": {},
   "source": [
    "#### Q: how much confidence do you have in NHS to respond to Covid-19 outbreak"
   ]
  },
  {
   "cell_type": "markdown",
   "metadata": {},
   "source": [
    "From the response we can tell more people feel better in countries with less percentage of confirmed cases"
   ]
  },
  {
   "cell_type": "code",
   "execution_count": 528,
   "metadata": {},
   "outputs": [
    {
     "data": {
      "text/plain": [
       "                  114199\n",
       "Somewhat well      34397\n",
       "Very well          20645\n",
       "Somewhat badly     13974\n",
       "Very badly         12025\n",
       "Don't know          5315\n",
       "Name: WCRex1, dtype: int64"
      ]
     },
     "execution_count": 528,
     "metadata": {},
     "output_type": "execute_result"
    }
   ],
   "source": [
    "all_data['WCRex1'].value_counts()"
   ]
  },
  {
   "cell_type": "code",
   "execution_count": 529,
   "metadata": {},
   "outputs": [
    {
     "data": {
      "text/plain": [
       "Text(0.5, 1.0, 'bottom10 data')"
      ]
     },
     "execution_count": 529,
     "metadata": {},
     "output_type": "execute_result"
    },
    {
     "data": {
      "image/png": "[encoded data removed]",
      "text/plain": [
       "<Figure size 1152x432 with 2 Axes>"
      ]
     },
     "metadata": {
      "needs_background": "light"
     },
     "output_type": "display_data"
    }
   ],
   "source": [
    "fig, ax = plt.subplots(1,2, figsize=(16,6))\n",
    "#order=['Always', 'Frequently', 'Sometimes', 'Rarely', 'Not at all']\n",
    "order=['Very well', 'Somewhat well', 'Somewhat badly', 'Very badly', \"Don'tknow\"]\n",
    "sns.countplot(x='WCRex1', data = top10_data, order = order, palette = 'Dark2', ax = ax[0])\n",
    "sns.countplot(x='WCRex1', data = bottom10_data, order = order, palette = 'Dark2', ax = ax[1])\n",
    "ax[0].set_title('top10 data')\n",
    "ax[1].set_title('bottom10 data')"
   ]
  },
  {
   "cell_type": "markdown",
   "metadata": {},
   "source": [
    "#### Q: little interests in doing things?"
   ]
  },
  {
   "cell_type": "code",
   "execution_count": 530,
   "metadata": {},
   "outputs": [
    {
     "data": {
      "text/plain": [
       "Text(0.5, 1.0, 'bottom10 data')"
      ]
     },
     "execution_count": 530,
     "metadata": {},
     "output_type": "execute_result"
    },
    {
     "data": {
      "image/png": "[encoded data removed]",
      "text/plain": [
       "<Figure size 1296x432 with 2 Axes>"
      ]
     },
     "metadata": {
      "needs_background": "light"
     },
     "output_type": "display_data"
    }
   ],
   "source": [
    "fig, ax = plt.subplots(1,2, figsize=(18,6))\n",
    "#order=['Always', 'Frequently', 'Sometimes', 'Rarely', 'Not at all']\n",
    "order=['Not at all', 'Several days', 'More than half the days', 'Nearly every day', 'Prefer not to say']\n",
    "sns.countplot(x='PHQ4_1', data = top10_data, order = order, palette = 'Dark2', ax = ax[0])\n",
    "sns.countplot(x='PHQ4_1', data = bottom10_data, order = order, palette = 'Dark2', ax = ax[1])\n",
    "ax[0].set_title('top10 data')\n",
    "ax[1].set_title('bottom10 data')"
   ]
  },
  {
   "cell_type": "markdown",
   "metadata": {},
   "source": [
    "#### Q: You government advsing wearing a mask(attribute: m1_1)"
   ]
  },
  {
   "cell_type": "markdown",
   "metadata": {},
   "source": [
    "Though at current stage people are all aware of the imporatnce of wearing a mask, there are somehow still more people not willing to wear mask in the top rated countries. The difference attitude is more obvious in the comparison of US vs China. Less percentage of people in US is willing to wear mask."
   ]
  },
  {
   "cell_type": "code",
   "execution_count": 531,
   "metadata": {
    "scrolled": false
   },
   "outputs": [
    {
     "data": {
      "text/plain": [
       "Text(0.5, 1.0, 'bottom10 data')"
      ]
     },
     "execution_count": 531,
     "metadata": {},
     "output_type": "execute_result"
    },
    {
     "data": {
      "image/png": "[encoded data removed]",
      "text/plain": [
       "<Figure size 1440x432 with 2 Axes>"
      ]
     },
     "metadata": {
      "needs_background": "light"
     },
     "output_type": "display_data"
    }
   ],
   "source": [
    "fig, ax = plt.subplots(1,2, figsize=(20,6))\n",
    "#order=['Always', 'Frequently', 'Sometimes', 'Rarely', 'Not at all']\n",
    "order=['Very willing', 'Quite willing', 'Neither willing or unwilling', 'Quite unwilling', 'Very unwilling', 'Not sure']\n",
    "sns.countplot(x='m1_1', data = top10_data, order = order, palette = 'Dark2', ax = ax[0])\n",
    "#sns.countplot(x='m1_1', data = all_data[all_data['country']=='united-kingdom'], order = order, palette = 'Dark2', ax = ax[0])\n",
    "sns.countplot(x='m1_1', data = bottom10_data, order = order, palette = 'Dark2', ax = ax[1])\n",
    "ax[0].set_title('top10 data')\n",
    "ax[1].set_title('bottom10 data')"
   ]
  },
  {
   "cell_type": "code",
   "execution_count": 377,
   "metadata": {},
   "outputs": [
    {
     "data": {
      "text/plain": [
       "Text(0, 0.5, 'percentage of response')"
      ]
     },
     "execution_count": 377,
     "metadata": {},
     "output_type": "execute_result"
    },
    {
     "data": {
      "image/png": "[encoded data removed]",
      "text/plain": [
       "<Figure size 1440x432 with 2 Axes>"
      ]
     },
     "metadata": {
      "needs_background": "light"
     },
     "output_type": "display_data"
    }
   ],
   "source": [
    "fig, ax = plt.subplots(1,2, figsize=(20,6))\n",
    "#order=['Always', 'Frequently', 'Sometimes', 'Rarely', 'Not at all']\n",
    "order=['Very willing', 'Quite willing', 'Neither willing or unwilling', 'Quite unwilling', 'Very unwilling', 'Not sure']\n",
    "us_data['m1_1'].value_counts().apply(lambda x: x/us_data.shape[0])[1:].plot(kind = 'bar', ax = ax[0], ylim=(0,0.06))\n",
    "china_data['m1_1'].value_counts().apply(lambda x: x/china_data.shape[0])[1:].plot(kind = 'bar', ax = ax[1], ylim = (0,0.06))\n",
    "ax[0].set_title('US data')\n",
    "ax[0].set_ylabel('percentage of response')\n",
    "ax[1].set_title('China data')\n",
    "ax[1].set_ylabel('percentage of response')"
   ]
  },
  {
   "cell_type": "markdown",
   "metadata": {},
   "source": [
    "#### Q: how many days did you wear a face mask or covering(in past 7 days?)"
   ]
  },
  {
   "cell_type": "code",
   "execution_count": 330,
   "metadata": {},
   "outputs": [
    {
     "data": {
      "text/plain": [
       "4      4072\n",
       "6      4650\n",
       "1      6743\n",
       "3      6898\n",
       "5      7996\n",
       "2      8468\n",
       "7     13778\n",
       "0     16899\n",
       "     154547\n",
       "Name: m3, dtype: int64"
      ]
     },
     "execution_count": 330,
     "metadata": {},
     "output_type": "execute_result"
    }
   ],
   "source": [
    "all_data['m3'].value_counts().sort_values()"
   ]
  },
  {
   "cell_type": "code",
   "execution_count": 532,
   "metadata": {},
   "outputs": [
    {
     "data": {
      "text/plain": [
       "(0, 5500)"
      ]
     },
     "execution_count": 532,
     "metadata": {},
     "output_type": "execute_result"
    },
    {
     "data": {
      "image/png": "[encoded data removed]",
      "text/plain": [
       "<Figure size 1440x432 with 2 Axes>"
      ]
     },
     "metadata": {
      "needs_background": "light"
     },
     "output_type": "display_data"
    }
   ],
   "source": [
    "fig, ax = plt.subplots(1,2, figsize=(20,6))\n",
    "#order=['Always', 'Frequently', 'Sometimes', 'Rarely', 'Not at all']\n",
    "order=['0','1','2','3','4','5','6','7']\n",
    "sns.countplot(x='m3', data = top10_data, order = order, ax = ax[0])\n",
    "#sns.countplot(x='m1_1', data = all_data[all_data['country']=='united-kingdom'], order = order, palette = 'Dark2', ax = ax[0])\n",
    "sns.countplot(x='m3', data = bottom10_data, order = order, ax = ax[1])\n",
    "ax[0].set_title('top10 data')\n",
    "ax[1].set_title('bottom10 data')\n",
    "ax[0].set_ylim(0,5500)\n",
    "ax[1].set_ylim(0,5500)"
   ]
  },
  {
   "cell_type": "code",
   "execution_count": 574,
   "metadata": {},
   "outputs": [],
   "source": [
    "all_data['m3'] = all_data['m3'].apply(lambda x: 0 if x== ' ' else x)\n",
    "all_data['m3'] = all_data['m3'].astype(float)"
   ]
  },
  {
   "cell_type": "code",
   "execution_count": null,
   "metadata": {},
   "outputs": [],
   "source": []
  },
  {
   "cell_type": "code",
   "execution_count": null,
   "metadata": {},
   "outputs": [],
   "source": []
  }
 ],
 "metadata": {
  "kernelspec": {
   "display_name": "Python 3",
   "language": "python",
   "name": "python3"
  },
  "language_info": {
   "codemirror_mode": {
    "name": "ipython",
    "version": 3
   },
   "file_extension": ".py",
   "mimetype": "text/x-python",
   "name": "python",
   "nbconvert_exporter": "python",
   "pygments_lexer": "ipython3",
   "version": "3.7.6"
  }
 },
 "nbformat": 4,
 "nbformat_minor": 4
}
