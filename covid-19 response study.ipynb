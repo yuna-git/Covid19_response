{
 "cells": [
  {
   "cell_type": "markdown",
   "metadata": {},
   "source": [
    "# Capstone project proposal -- Covid-19 behavior"
   ]
  },
  {
   "cell_type": "markdown",
   "metadata": {},
   "source": [
    "Since early April, Imperial College London and YouGov have been surveying people in 29 countries about their coronavirus-related behaviors and opinions. Topics include mask usage, self-isolation, working from home, vaccinations, and economic activity. The purpose of this project is to investigate whether/which kind of people's behavior would affect the spreading of COVID-19, and how people can better protect themselves and families."
   ]
  },
  {
   "cell_type": "markdown",
   "metadata": {},
   "source": [
    "Two sets of dataset were downloaded from internet. The survey data about people's response in 29 countries is downloaded here: https://github.com/YouGov-Data/covid-19-tracker. \n",
    "\n",
    "The total confirmed Covid-19 cases and daily confirmed cases in population precentage by country is downloaded here: https://ourworldindata.org/covid-cases. \n",
    "\n",
    "With these two sets of data together, I'm trying to explore the correlation between people's response and the population rate of confirmed cases."
   ]
  },
  {
   "cell_type": "markdown",
   "metadata": {},
   "source": [
    "### Step 1: download survey data for all the 29 countries,  merge together and exported a copy of data"
   ]
  },
  {
   "cell_type": "code",
   "execution_count": 239,
   "metadata": {},
   "outputs": [],
   "source": [
    "import numpy as np\n",
    "import pandas as pd\n",
    "import timeit"
   ]
  },
  {
   "cell_type": "code",
   "execution_count": 240,
   "metadata": {},
   "outputs": [],
   "source": [
    "countries = pd.read_csv('incubator/covid19/countries.txt', header=None)"
   ]
  },
  {
   "cell_type": "code",
   "execution_count": 241,
   "metadata": {},
   "outputs": [],
   "source": [
    "countrynames = countries.values"
   ]
  },
  {
   "cell_type": "code",
   "execution_count": 242,
   "metadata": {},
   "outputs": [
    {
     "name": "stderr",
     "output_type": "stream",
     "text": [
      "F:\\Anaconda3\\lib\\site-packages\\IPython\\core\\interactiveshell.py:3063: DtypeWarning: Columns (81) have mixed types.Specify dtype option on import or set low_memory=False.\n",
      "  interactivity=interactivity, compiler=compiler, result=result)\n"
     ]
    }
   ],
   "source": [
    "austrilia_data = pd.read_csv('incubator/covid19/australia.txt', index_col='RecordNo')"
   ]
  },
  {
   "cell_type": "code",
   "execution_count": 243,
   "metadata": {},
   "outputs": [
    {
     "data": {
      "text/plain": [
       "Index(['i12_health_10', 'i12_health_11', 'i12_health_12', 'i12_health_13',\n",
       "       'i12_health_14', 'i12_health_15', 'i12_health_16', 'i12_health_17',\n",
       "       'i12_health_18', 'i12_health_19', 'i12_health_20', 'i13_health',\n",
       "       'i14_health_1', 'i14_health_2', 'i14_health_3', 'i14_health_4',\n",
       "       'i14_health_5', 'i14_health_6', 'i14_health_7', 'i14_health_8'],\n",
       "      dtype='object')"
      ]
     },
     "execution_count": 243,
     "metadata": {},
     "output_type": "execute_result"
    }
   ],
   "source": [
    "austrilia_data.columns[30:50]"
   ]
  },
  {
   "cell_type": "code",
   "execution_count": 244,
   "metadata": {},
   "outputs": [
    {
     "name": "stdout",
     "output_type": "stream",
     "text": [
      "<class 'pandas.core.frame.DataFrame'>\n",
      "Int64Index: 11042 entries, 310 to 11351\n",
      "Columns: 206 entries, endtime to m14_open\n",
      "dtypes: float64(1), int64(5), object(200)\n",
      "memory usage: 17.4+ MB\n"
     ]
    }
   ],
   "source": [
    "austrilia_data.info()"
   ]
  },
  {
   "cell_type": "code",
   "execution_count": 245,
   "metadata": {},
   "outputs": [
    {
     "name": "stderr",
     "output_type": "stream",
     "text": [
      "F:\\Anaconda3\\lib\\site-packages\\IPython\\core\\interactiveshell.py:3063: DtypeWarning: Columns (84) have mixed types.Specify dtype option on import or set low_memory=False.\n",
      "  interactivity=interactivity, compiler=compiler, result=result)\n"
     ]
    }
   ],
   "source": [
    "china_data = pd.read_csv('incubator/covid19/china.txt', index_col='RecordNo')"
   ]
  },
  {
   "cell_type": "code",
   "execution_count": 246,
   "metadata": {},
   "outputs": [
    {
     "data": {
      "text/plain": [
       "Index(['endtime', 'qweek', 'i1_health', 'i2_health', 'i7a_health', 'i3_health',\n",
       "       'i4_health', 'i5_health_1', 'i5_health_2', 'i5_health_3',\n",
       "       ...\n",
       "       'm14_5', 'm14_6', 'm14_7', 'm14_8', 'm14_9', 'm14_10', 'm14_11',\n",
       "       'm14_96', 'm14_99', 'm14_open'],\n",
       "      dtype='object', length=209)"
      ]
     },
     "execution_count": 246,
     "metadata": {},
     "output_type": "execute_result"
    }
   ],
   "source": [
    "china_data.columns"
   ]
  },
  {
   "cell_type": "code",
   "execution_count": 247,
   "metadata": {},
   "outputs": [
    {
     "name": "stdout",
     "output_type": "stream",
     "text": [
      "<class 'pandas.core.frame.DataFrame'>\n",
      "Int64Index: 11015 entries, 0 to 11014\n",
      "Columns: 209 entries, endtime to m14_open\n",
      "dtypes: float64(1), int64(5), object(203)\n",
      "memory usage: 17.6+ MB\n"
     ]
    }
   ],
   "source": [
    "china_data.info()"
   ]
  },
  {
   "cell_type": "code",
   "execution_count": 248,
   "metadata": {},
   "outputs": [
    {
     "name": "stdout",
     "output_type": "stream",
     "text": [
      "<class 'pandas.core.frame.DataFrame'>\n",
      "RangeIndex: 33967 entries, 0 to 33966\n",
      "Columns: 214 entries, endtime to employment_status_7\n",
      "dtypes: float64(1), int64(5), object(208)\n",
      "memory usage: 55.5+ MB\n"
     ]
    }
   ],
   "source": [
    "t1 = pd.concat([austrilia_data, china_data, united_state_data], ignore_index=True, sort=False)\n",
    "t1.info()"
   ]
  },
  {
   "cell_type": "code",
   "execution_count": 249,
   "metadata": {},
   "outputs": [
    {
     "name": "stdout",
     "output_type": "stream",
     "text": [
      "australia.txt\n",
      "brazil.txt\n"
     ]
    },
    {
     "name": "stderr",
     "output_type": "stream",
     "text": [
      "F:\\Anaconda3\\lib\\site-packages\\IPython\\core\\interactiveshell.py:3063: DtypeWarning: Columns (79,104) have mixed types.Specify dtype option on import or set low_memory=False.\n",
      "  interactivity=interactivity, compiler=compiler, result=result)\n"
     ]
    },
    {
     "name": "stdout",
     "output_type": "stream",
     "text": [
      "canada.txt\n"
     ]
    },
    {
     "name": "stderr",
     "output_type": "stream",
     "text": [
      "F:\\Anaconda3\\lib\\site-packages\\IPython\\core\\interactiveshell.py:3063: DtypeWarning: Columns (78) have mixed types.Specify dtype option on import or set low_memory=False.\n",
      "  interactivity=interactivity, compiler=compiler, result=result)\n"
     ]
    },
    {
     "name": "stdout",
     "output_type": "stream",
     "text": [
      "china.txt\n",
      "denmark.txt\n",
      "finland.txt\n",
      "france.txt\n"
     ]
    },
    {
     "name": "stderr",
     "output_type": "stream",
     "text": [
      "F:\\Anaconda3\\lib\\site-packages\\IPython\\core\\interactiveshell.py:3063: DtypeWarning: Columns (3,4,5,41,78) have mixed types.Specify dtype option on import or set low_memory=False.\n",
      "  interactivity=interactivity, compiler=compiler, result=result)\n"
     ]
    },
    {
     "name": "stdout",
     "output_type": "stream",
     "text": [
      "germany.txt\n"
     ]
    },
    {
     "name": "stderr",
     "output_type": "stream",
     "text": [
      "F:\\Anaconda3\\lib\\site-packages\\IPython\\core\\interactiveshell.py:3063: DtypeWarning: Columns (3,4,5,41,75) have mixed types.Specify dtype option on import or set low_memory=False.\n",
      "  interactivity=interactivity, compiler=compiler, result=result)\n"
     ]
    },
    {
     "name": "stdout",
     "output_type": "stream",
     "text": [
      "hong-kong.txt\n"
     ]
    },
    {
     "name": "stderr",
     "output_type": "stream",
     "text": [
      "F:\\Anaconda3\\lib\\site-packages\\IPython\\core\\interactiveshell.py:3063: DtypeWarning: Columns (78,89) have mixed types.Specify dtype option on import or set low_memory=False.\n",
      "  interactivity=interactivity, compiler=compiler, result=result)\n"
     ]
    },
    {
     "name": "stdout",
     "output_type": "stream",
     "text": [
      "india.txt\n",
      "indonesia.txt\n",
      "italy.txt\n",
      "japan.txt\n",
      "malaysia.txt\n",
      "mexico.txt\n",
      "netherlands.txt\n",
      "norway.txt\n",
      "philippines.txt\n",
      "saudi-arabia.txt\n",
      "singapore.txt\n"
     ]
    },
    {
     "name": "stderr",
     "output_type": "stream",
     "text": [
      "F:\\Anaconda3\\lib\\site-packages\\IPython\\core\\interactiveshell.py:3063: DtypeWarning: Columns (79) have mixed types.Specify dtype option on import or set low_memory=False.\n",
      "  interactivity=interactivity, compiler=compiler, result=result)\n"
     ]
    },
    {
     "name": "stdout",
     "output_type": "stream",
     "text": [
      "south-korea.txt\n",
      "spain.txt\n",
      "sweden.txt\n"
     ]
    },
    {
     "name": "stderr",
     "output_type": "stream",
     "text": [
      "F:\\Anaconda3\\lib\\site-packages\\IPython\\core\\interactiveshell.py:3063: DtypeWarning: Columns (103) have mixed types.Specify dtype option on import or set low_memory=False.\n",
      "  interactivity=interactivity, compiler=compiler, result=result)\n"
     ]
    },
    {
     "name": "stdout",
     "output_type": "stream",
     "text": [
      "taiwan.txt\n",
      "thailand.txt\n",
      "united-arab-emirates.txt\n",
      "united-kingdom.txt\n"
     ]
    },
    {
     "name": "stderr",
     "output_type": "stream",
     "text": [
      "F:\\Anaconda3\\lib\\site-packages\\IPython\\core\\interactiveshell.py:3063: DtypeWarning: Columns (82,87,89) have mixed types.Specify dtype option on import or set low_memory=False.\n",
      "  interactivity=interactivity, compiler=compiler, result=result)\n"
     ]
    },
    {
     "name": "stdout",
     "output_type": "stream",
     "text": [
      "united-states.txt\n",
      "vietnam.txt\n"
     ]
    }
   ],
   "source": [
    "country_data = []\n",
    "for i in range(len(countrynames)):\n",
    "    country = countrynames[i]\n",
    "    filename = country[0]+'.txt'\n",
    "    print(filename)\n",
    "    if country == 'sweden':\n",
    "        data = pd.read_csv('incubator/covid19/'+filename, index_col='record')\n",
    "    else: \n",
    "        data = pd.read_csv('incubator/covid19/'+filename, index_col='RecordNo')\n",
    "    data['country']= pd.Series([country[0]]*data.shape[0])\n",
    "    country_data.append(data)\n"
   ]
  },
  {
   "cell_type": "code",
   "execution_count": 250,
   "metadata": {},
   "outputs": [],
   "source": [
    "all_data = pd.concat(country_data, ignore_index=True, sort=False)"
   ]
  },
  {
   "cell_type": "code",
   "execution_count": 251,
   "metadata": {},
   "outputs": [],
   "source": [
    "all_data.to_csv('incubator/covid19/all_data_merge.csv')"
   ]
  },
  {
   "cell_type": "markdown",
   "metadata": {},
   "source": [
    "### Step 2: select some countries with high volume of Covid-19 cases, compare the response with data from all the survey counties"
   ]
  },
  {
   "cell_type": "code",
   "execution_count": 252,
   "metadata": {},
   "outputs": [],
   "source": [
    "import matplotlib.pyplot as plt\n",
    "import seaborn as sns"
   ]
  },
  {
   "cell_type": "code",
   "execution_count": 345,
   "metadata": {},
   "outputs": [
    {
     "data": {
      "text/plain": [
       "<matplotlib.axes._subplots.AxesSubplot at 0x271115ac1c8>"
      ]
     },
     "execution_count": 345,
     "metadata": {},
     "output_type": "execute_result"
    },
    {
     "data": {
      "image/png": "[encoded data removed]",
      "text/plain": [
       "<Figure size 720x432 with 1 Axes>"
      ]
     },
     "metadata": {
      "needs_background": "light"
     },
     "output_type": "display_data"
    }
   ],
   "source": [
    "all_data['country'].value_counts()\n",
    "all_data['country'].value_counts().plot(kind='barh', figsize=(10,6))"
   ]
  },
  {
   "cell_type": "markdown",
   "metadata": {},
   "source": [
    "I also checked this website for confirmed Covid-19 cases population percetange rating for these countries:\n",
    "https://ourworldindata.org/, and below is the list of country names in descending order of the confirmed cases population percentage."
   ]
  },
  {
   "cell_type": "code",
   "execution_count": 348,
   "metadata": {},
   "outputs": [],
   "source": [
    "country_rate =['united-state', 'brazil', 'singapore', 'sweden', 'saudi-arabia', 'united-arab-emirates', 'spain', \n",
    "              'united-kingdom', 'italy', 'neitherland', 'canada', 'france', 'germany', 'denmark','mexico', 'norway', \n",
    "              'finland', 'india', 'philippines', 'australia','indonesia','malaysia', 'south-korea','japan', 'china',\n",
    "              'taiwan', 'vietnam']"
   ]
  },
  {
   "cell_type": "code",
   "execution_count": 351,
   "metadata": {},
   "outputs": [],
   "source": [
    "us_data = all_data[all_data['country']=='united-states']\n",
    "uk_data = all_data[all_data['country']=='united-kindom']\n",
    "china_data = all_data[all_data['country']=='china']\n",
    "top10_data = all_data.loc[all_data['country'].apply(lambda x: x in country_rate[:10])]\n",
    "bottom10_data = all_data.loc[all_data['country'].apply(lambda x: x in country_rate[-10:])]"
   ]
  },
  {
   "cell_type": "code",
   "execution_count": 383,
   "metadata": {},
   "outputs": [
    {
     "name": "stdout",
     "output_type": "stream",
     "text": [
      "(73053, 259)\n",
      "(76424, 259)\n"
     ]
    }
   ],
   "source": [
    "print(top10_data.shape)\n",
    "print(bottom10_data.shape)"
   ]
  },
  {
   "cell_type": "markdown",
   "metadata": {},
   "source": [
    "#### Q: how much confidence do you have in NHS to respond to Covid-19 outbreak"
   ]
  },
  {
   "cell_type": "markdown",
   "metadata": {},
   "source": [
    "From the response we can tell more people feel better in countries with less percentage of confirmed cases"
   ]
  },
  {
   "cell_type": "code",
   "execution_count": 256,
   "metadata": {},
   "outputs": [
    {
     "data": {
      "text/plain": [
       "                  114199\n",
       "Somewhat well      34397\n",
       "Very well          20645\n",
       "Somewhat badly     13974\n",
       "Very badly         12025\n",
       "Don't know          5315\n",
       "Name: WCRex1, dtype: int64"
      ]
     },
     "execution_count": 256,
     "metadata": {},
     "output_type": "execute_result"
    }
   ],
   "source": [
    "all_data['WCRex1'].value_counts()"
   ]
  },
  {
   "cell_type": "code",
   "execution_count": 352,
   "metadata": {},
   "outputs": [
    {
     "data": {
      "text/plain": [
       "Text(0.5, 1.0, 'bottom10 data')"
      ]
     },
     "execution_count": 352,
     "metadata": {},
     "output_type": "execute_result"
    },
    {
     "data": {
      "image/png": "[encoded data removed]",
      "text/plain": [
       "<Figure size 1152x432 with 2 Axes>"
      ]
     },
     "metadata": {
      "needs_background": "light"
     },
     "output_type": "display_data"
    }
   ],
   "source": [
    "fig, ax = plt.subplots(1,2, figsize=(16,6))\n",
    "#order=['Always', 'Frequently', 'Sometimes', 'Rarely', 'Not at all']\n",
    "order=['Very well', 'Somewhat well', 'Somewhat badly', 'Very badly', \"Don'tknow\"]\n",
    "sns.countplot(x='WCRex1', data = top10_data, order = order, palette = 'Dark2', ax = ax[0])\n",
    "sns.countplot(x='WCRex1', data = bottom10_data, order = order, palette = 'Dark2', ax = ax[1])\n",
    "ax[0].set_title('top10 data')\n",
    "ax[1].set_title('bottom10 data')"
   ]
  },
  {
   "cell_type": "markdown",
   "metadata": {},
   "source": [
    "#### Q: little interests in doing things?"
   ]
  },
  {
   "cell_type": "code",
   "execution_count": 353,
   "metadata": {},
   "outputs": [
    {
     "data": {
      "text/plain": [
       "Text(0.5, 1.0, 'bottom10 data')"
      ]
     },
     "execution_count": 353,
     "metadata": {},
     "output_type": "execute_result"
    },
    {
     "data": {
      "image/png": "[encoded data removed]",
      "text/plain": [
       "<Figure size 1296x432 with 2 Axes>"
      ]
     },
     "metadata": {
      "needs_background": "light"
     },
     "output_type": "display_data"
    }
   ],
   "source": [
    "fig, ax = plt.subplots(1,2, figsize=(18,6))\n",
    "#order=['Always', 'Frequently', 'Sometimes', 'Rarely', 'Not at all']\n",
    "order=['Not at all', 'Several days', 'More than half the days', 'Nearly every day', 'Prefer not to say']\n",
    "sns.countplot(x='PHQ4_1', data = top10_data, order = order, palette = 'Dark2', ax = ax[0])\n",
    "sns.countplot(x='PHQ4_1', data = bottom10_data, order = order, palette = 'Dark2', ax = ax[1])\n",
    "ax[0].set_title('top10 data')\n",
    "ax[1].set_title('bottom10 data')"
   ]
  },
  {
   "cell_type": "markdown",
   "metadata": {},
   "source": [
    "#### Q: You government advsing wearing a mask(attribute: m1_1)"
   ]
  },
  {
   "cell_type": "markdown",
   "metadata": {},
   "source": [
    "Though at current stage people are all aware of the imporatnce of wearing a mask, there are somehow still more people not willing to wear mask in the top rated countries. The difference attitude is more obvious in the comparison of US vs China. Less percentage of people in US is willing to wear mask."
   ]
  },
  {
   "cell_type": "code",
   "execution_count": 354,
   "metadata": {
    "scrolled": false
   },
   "outputs": [
    {
     "data": {
      "text/plain": [
       "Text(0.5, 1.0, 'bottom10 data')"
      ]
     },
     "execution_count": 354,
     "metadata": {},
     "output_type": "execute_result"
    },
    {
     "data": {
      "image/png": "[encoded data removed]",
      "text/plain": [
       "<Figure size 1440x432 with 2 Axes>"
      ]
     },
     "metadata": {
      "needs_background": "light"
     },
     "output_type": "display_data"
    }
   ],
   "source": [
    "fig, ax = plt.subplots(1,2, figsize=(20,6))\n",
    "#order=['Always', 'Frequently', 'Sometimes', 'Rarely', 'Not at all']\n",
    "order=['Very willing', 'Quite willing', 'Neither willing or unwilling', 'Quite unwilling', 'Very unwilling', 'Not sure']\n",
    "sns.countplot(x='m1_1', data = top10_data, order = order, palette = 'Dark2', ax = ax[0])\n",
    "#sns.countplot(x='m1_1', data = all_data[all_data['country']=='united-kingdom'], order = order, palette = 'Dark2', ax = ax[0])\n",
    "sns.countplot(x='m1_1', data = bottom10_data, order = order, palette = 'Dark2', ax = ax[1])\n",
    "ax[0].set_title('top10 data')\n",
    "ax[1].set_title('bottom10 data')"
   ]
  },
  {
   "cell_type": "code",
   "execution_count": 377,
   "metadata": {},
   "outputs": [
    {
     "data": {
      "text/plain": [
       "Text(0, 0.5, 'percentage of response')"
      ]
     },
     "execution_count": 377,
     "metadata": {},
     "output_type": "execute_result"
    },
    {
     "data": {
      "image/png": "[encoded data removed]",
      "text/plain": [
       "<Figure size 1440x432 with 2 Axes>"
      ]
     },
     "metadata": {
      "needs_background": "light"
     },
     "output_type": "display_data"
    }
   ],
   "source": [
    "fig, ax = plt.subplots(1,2, figsize=(20,6))\n",
    "#order=['Always', 'Frequently', 'Sometimes', 'Rarely', 'Not at all']\n",
    "order=['Very willing', 'Quite willing', 'Neither willing or unwilling', 'Quite unwilling', 'Very unwilling', 'Not sure']\n",
    "us_data['m1_1'].value_counts().apply(lambda x: x/us_data.shape[0])[1:].plot(kind = 'bar', ax = ax[0], ylim=(0,0.06))\n",
    "china_data['m1_1'].value_counts().apply(lambda x: x/china_data.shape[0])[1:].plot(kind = 'bar', ax = ax[1], ylim = (0,0.06))\n",
    "ax[0].set_title('US data')\n",
    "ax[0].set_ylabel('percentage of response')\n",
    "ax[1].set_title('China data')\n",
    "ax[1].set_ylabel('percentage of response')"
   ]
  },
  {
   "cell_type": "markdown",
   "metadata": {},
   "source": [
    "#### Q: how many days did you wear a face mask or covering(in past 7 days?)"
   ]
  },
  {
   "cell_type": "code",
   "execution_count": 330,
   "metadata": {},
   "outputs": [
    {
     "data": {
      "text/plain": [
       "4      4072\n",
       "6      4650\n",
       "1      6743\n",
       "3      6898\n",
       "5      7996\n",
       "2      8468\n",
       "7     13778\n",
       "0     16899\n",
       "     154547\n",
       "Name: m3, dtype: int64"
      ]
     },
     "execution_count": 330,
     "metadata": {},
     "output_type": "execute_result"
    }
   ],
   "source": [
    "all_data['m3'].value_counts().sort_values()"
   ]
  },
  {
   "cell_type": "code",
   "execution_count": 382,
   "metadata": {},
   "outputs": [
    {
     "data": {
      "text/plain": [
       "(0, 5500)"
      ]
     },
     "execution_count": 382,
     "metadata": {},
     "output_type": "execute_result"
    },
    {
     "data": {
      "image/png": "[encoded data removed]",
      "text/plain": [
       "<Figure size 1440x432 with 2 Axes>"
      ]
     },
     "metadata": {
      "needs_background": "light"
     },
     "output_type": "display_data"
    }
   ],
   "source": [
    "fig, ax = plt.subplots(1,2, figsize=(20,6))\n",
    "#order=['Always', 'Frequently', 'Sometimes', 'Rarely', 'Not at all']\n",
    "order=['0','1','2','3','4','5','6','7']\n",
    "sns.countplot(x='m3', data = top10_data, order = order, ax = ax[0])\n",
    "#sns.countplot(x='m1_1', data = all_data[all_data['country']=='united-kingdom'], order = order, palette = 'Dark2', ax = ax[0])\n",
    "sns.countplot(x='m3', data = bottom10_data, order = order, ax = ax[1])\n",
    "ax[0].set_title('top10 data')\n",
    "ax[1].set_title('bottom10 data')\n",
    "ax[0].set_ylim(0,5500)\n",
    "ax[1].set_ylim(0,5500)"
   ]
  },
  {
   "cell_type": "code",
   "execution_count": 317,
   "metadata": {},
   "outputs": [
    {
     "name": "stderr",
     "output_type": "stream",
     "text": [
      "No handles with labels found to put in legend.\n"
     ]
    },
    {
     "data": {
      "text/plain": [
       "<matplotlib.legend.Legend at 0x27120dda408>"
      ]
     },
     "execution_count": 317,
     "metadata": {},
     "output_type": "execute_result"
    },
    {
     "data": {
      "image/png": "[encoded data removed]",
      "text/plain": [
       "<Figure size 1008x576 with 1 Axes>"
      ]
     },
     "metadata": {
      "needs_background": "light"
     },
     "output_type": "display_data"
    }
   ],
   "source": [
    "plt.figure(figsize=(14,8))\n",
    "order=['1 - Disagree','2','3','4','5','6','7 - Agree']\n",
    "us_data = all_data[all_data['country']=='united-states']\n",
    "sns.countplot(x='r1_1', data = all_data, order = order,  palette = 'viridis')\n",
    "plt.legend(loc='best', bbox_to_anchor = (1,1))"
   ]
  },
  {
   "cell_type": "code",
   "execution_count": null,
   "metadata": {},
   "outputs": [],
   "source": []
  }
 ],
 "metadata": {
  "kernelspec": {
   "display_name": "Python 3",
   "language": "python",
   "name": "python3"
  },
  "language_info": {
   "codemirror_mode": {
    "name": "ipython",
    "version": 3
   },
   "file_extension": ".py",
   "mimetype": "text/x-python",
   "name": "python",
   "nbconvert_exporter": "python",
   "pygments_lexer": "ipython3",
   "version": "3.7.6"
  }
 },
 "nbformat": 4,
 "nbformat_minor": 4
}
